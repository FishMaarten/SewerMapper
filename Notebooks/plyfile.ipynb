{
 "cells": [
  {
   "cell_type": "code",
   "execution_count": 23,
   "metadata": {},
   "outputs": [],
   "source": [
    "from plyfile import PlyData, PlyElement\n",
    "\n",
    "import numpy as np\n",
    "import time\n",
    "\n",
    "import matplotlib.pyplot as plt"
   ]
  },
  {
   "cell_type": "code",
   "execution_count": 2,
   "metadata": {},
   "outputs": [],
   "source": [
    "ply = PlyData.read(\"2020-08-13_10 10 32.006_529_quick.ply\")"
   ]
  },
  {
   "cell_type": "code",
   "execution_count": 3,
   "metadata": {},
   "outputs": [
    {
     "data": {
      "text/plain": [
       "PlyElement('vertex', (PlyProperty('x', 'float'), PlyProperty('y', 'float'), PlyProperty('z', 'float'), PlyProperty('red', 'uchar'), PlyProperty('green', 'uchar'), PlyProperty('blue', 'uchar')), count=231989, comments=[])"
      ]
     },
     "execution_count": 3,
     "metadata": {},
     "output_type": "execute_result"
    }
   ],
   "source": [
    "ply[\"vertex\"]"
   ]
  },
  {
   "cell_type": "code",
   "execution_count": 20,
   "metadata": {},
   "outputs": [],
   "source": [
    "vertices = np.array([list(v)[:3] for v in ply[\"vertex\"]])"
   ]
  },
  {
   "cell_type": "code",
   "execution_count": 28,
   "metadata": {},
   "outputs": [
    {
     "data": {
      "text/plain": [
       "<matplotlib.collections.PathCollection at 0x7faf17c31950>"
      ]
     },
     "execution_count": 28,
     "metadata": {},
     "output_type": "execute_result"
    },
    {
     "data": {
      "image/png": "[encoded data removed]",
      "text/plain": [
       "<Figure size 432x288 with 1 Axes>"
      ]
     },
     "metadata": {
      "needs_background": "light"
     },
     "output_type": "display_data"
    }
   ],
   "source": [
    "vertices = np.array([list(v)[:3] for v in ply[\"vertex\"]])\n",
    "plt.scatter(vertices[:,0],vertices[:,2]) ## x&z"
   ]
  },
  {
   "cell_type": "code",
   "execution_count": 86,
   "metadata": {},
   "outputs": [
    {
     "data": {
      "text/plain": [
       "PlyElement('camera', (PlyProperty('view_px', 'float'), PlyProperty('view_py', 'float'), PlyProperty('view_pz', 'float'), PlyProperty('x_axisx', 'float'), PlyProperty('x_axisy', 'float'), PlyProperty('x_axisz', 'float'), PlyProperty('y_axisx', 'float'), PlyProperty('y_axisy', 'float'), PlyProperty('y_axisz', 'float'), PlyProperty('z_axisx', 'float'), PlyProperty('z_axisy', 'float'), PlyProperty('z_axisz', 'float'), PlyProperty('focal', 'float'), PlyProperty('scalex', 'float'), PlyProperty('scaley', 'float'), PlyProperty('centerx', 'float'), PlyProperty('centery', 'float'), PlyProperty('viewportx', 'int'), PlyProperty('viewporty', 'int'), PlyProperty('k1', 'float'), PlyProperty('k2', 'float')), count=1, comments=[])"
      ]
     },
     "execution_count": 86,
     "metadata": {},
     "output_type": "execute_result"
    }
   ],
   "source": [
    "ply[\"camera\"]"
   ]
  },
  {
   "cell_type": "code",
   "execution_count": 231,
   "metadata": {},
   "outputs": [
    {
     "data": {
      "text/plain": [
       "<generator object <genexpr> at 0x7f59f3891cd0>"
      ]
     },
     "execution_count": 231,
     "metadata": {},
     "output_type": "execute_result"
    }
   ],
   "source": []
  },
  {
   "cell_type": "code",
   "execution_count": 14,
   "metadata": {},
   "outputs": [
    {
     "name": "stdout",
     "output_type": "stream",
     "text": [
      "1.180018\n",
      "-0.102008365\n",
      "-3.040773\n",
      "15\n",
      "1\n",
      "0\n"
     ]
    }
   ],
   "source": [
    "for i, v in enumerate(ply[\"vertex\"][0]):\n",
    "    print(v)"
   ]
  },
  {
   "cell_type": "code",
   "execution_count": 15,
   "metadata": {},
   "outputs": [],
   "source": [
    "from benedict import ClusterBatch"
   ]
  },
  {
   "cell_type": "code",
   "execution_count": 16,
   "metadata": {},
   "outputs": [],
   "source": [
    "from sklearn.cluster import DBSCAN"
   ]
  },
  {
   "cell_type": "code",
   "execution_count": 17,
   "metadata": {},
   "outputs": [
    {
     "data": {
      "text/plain": [
       "3268"
      ]
     },
     "execution_count": 17,
     "metadata": {},
     "output_type": "execute_result"
    }
   ],
   "source": [
    "dbscan = DBSCAN(.03).fit_predict(cloud)\n",
    "clst = dict(zip(*np.unique(dbscan, return_counts=True)))\n",
    "main = max(clst.items(), key=lambda i:i[1])\n",
    "total = sum(clst.values()) -main[1]\n",
    "total"
   ]
  },
  {
   "cell_type": "code",
   "execution_count": 23,
   "metadata": {},
   "outputs": [
    {
     "data": {
      "text/plain": [
       "PlyElement('vertex', (PlyProperty('x', 'float'), PlyProperty('y', 'float'), PlyProperty('z', 'float'), PlyProperty('red', 'uchar'), PlyProperty('green', 'uchar'), PlyProperty('blue', 'uchar')), count=231989, comments=[])"
      ]
     },
     "execution_count": 23,
     "metadata": {},
     "output_type": "execute_result"
    }
   ],
   "source": [
    "ply[\"vertex\"]"
   ]
  },
  {
   "cell_type": "code",
   "execution_count": 18,
   "metadata": {},
   "outputs": [],
   "source": [
    "out_idxs = [i for i, label in enumerate(dbscan) if label != main[0]]"
   ]
  },
  {
   "cell_type": "code",
   "execution_count": 19,
   "metadata": {},
   "outputs": [],
   "source": [
    "for idx in range(ply[\"vertex\"].count):\n",
    "    if idx in out_idxs:\n",
    "        ply[\"vertex\"][idx] = tuple(\n",
    "            val if i > 2 else 0 for i, val in enumerate(ply[\"vertex\"][idx])\n",
    "        )"
   ]
  },
  {
   "cell_type": "code",
   "execution_count": 11,
   "metadata": {},
   "outputs": [],
   "source": [
    "ply[\"vertex\"][0] = tuple(val if i > 2 else 0 for i, val in enumerate(ply[\"vertex\"][0]))"
   ]
  },
  {
   "cell_type": "code",
   "execution_count": 247,
   "metadata": {},
   "outputs": [],
   "source": [
    "with open(\"test1.ply\", \"wb\") as file:\n",
    "    ply.write(file)"
   ]
  },
  {
   "cell_type": "code",
   "execution_count": 248,
   "metadata": {},
   "outputs": [],
   "source": [
    "for idx in range(ply[\"vertex\"].count):\n",
    "    if idx < ply[\"vertex\"].count//2:\n",
    "        ply[\"vertex\"][idx] = tuple(\n",
    "            val if i > 2 else 0 for i, val in enumerate(ply[\"vertex\"][idx])\n",
    "        )"
   ]
  },
  {
   "cell_type": "code",
   "execution_count": 20,
   "metadata": {},
   "outputs": [],
   "source": [
    "with open(\"2020-08-13_10 10 32.006_529_quick_prep.ply\", \"wb\") as file:\n",
    "    ply.write(file)"
   ]
  },
  {
   "cell_type": "code",
   "execution_count": 253,
   "metadata": {},
   "outputs": [],
   "source": [
    "for idx in range(ply[\"vertex\"].count):\n",
    "    if idx % 2 == 0: \n",
    "        ply[\"vertex\"][idx] = tuple(\n",
    "            val if i > 2 else 0 for i, val in enumerate(ply[\"vertex\"][idx])\n",
    "        )"
   ]
  },
  {
   "cell_type": "code",
   "execution_count": 254,
   "metadata": {},
   "outputs": [],
   "source": [
    "with open(\"test3.ply\", \"wb\") as file:\n",
    "    ply.write(file)"
   ]
  },
  {
   "cell_type": "code",
   "execution_count": 9,
   "metadata": {},
   "outputs": [],
   "source": [
    "cloud = np.array(list(zip(\n",
    "    ply[\"vertex\"][\"x\"],\n",
    "    ply[\"vertex\"][\"y\"],\n",
    "    ply[\"vertex\"][\"z\"]\n",
    ")))"
   ]
  },
  {
   "cell_type": "code",
   "execution_count": null,
   "metadata": {},
   "outputs": [],
   "source": [
    "start = time.time()\n",
    "\n",
    "ClusterBatch.calculate_cross_euclidean(cloud)\n",
    "\n",
    "print((time.time()-start)//60)"
   ]
  }
 ],
 "metadata": {
  "kernelspec": {
   "display_name": "Python 3",
   "language": "python",
   "name": "python3"
  },
  "language_info": {
   "codemirror_mode": {
    "name": "ipython",
    "version": 3
   },
   "file_extension": ".py",
   "mimetype": "text/x-python",
   "name": "python",
   "nbconvert_exporter": "python",
   "pygments_lexer": "ipython3",
   "version": "3.7.6"
  }
 },
 "nbformat": 4,
 "nbformat_minor": 4
}
